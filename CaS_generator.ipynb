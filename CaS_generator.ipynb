{
 "cells": [
  {
   "cell_type": "code",
   "execution_count": 91,
   "metadata": {
    "collapsed": true
   },
   "outputs": [],
   "source": [
    "import pandas as pd\n",
    "import numpy as np\n",
    "import random as r\n",
    "\n"
   ]
  },
  {
   "cell_type": "code",
   "execution_count": 92,
   "metadata": {
    "collapsed": true
   },
   "outputs": [],
   "source": [
    "people = pd.read_csv(\"people.csv\")\n",
    "places = pd.read_csv(\"places.csv\")\n",
    "\n"
   ]
  },
  {
   "cell_type": "code",
   "execution_count": 97,
   "metadata": {
    "collapsed": true
   },
   "outputs": [],
   "source": [
    "def Prompt_Generator(people_df,places_df):\n",
    "    \n",
    "    people_list = people_df['People'].values.tolist()\n",
    "    places_list = places_df['Places'].values.tolist()\n",
    "    \n",
    "    k_val = r.choices([1,2,3],weights=[10,88,2],k=1)[0]\n",
    "    chars = list(np.random.choice(people_list,size=k_val,replace=False))\n",
    "    place = r.choice(places_list)\n",
    "    \n",
    "    if k_val == 1:\n",
    "        combo = len(people_list)*len(places_list)\n",
    "    elif k_val == 2:\n",
    "        combo = len(people_list)*(len(people_list)-1)*len(places_list)\n",
    "    elif k_val == 3:\n",
    "        combo = len(people_list)*(len(people_list)-1)*(len(people_list)-2)*len(places_list)\n",
    "    print(\"The following combination is 1 in %s\" % combo)\n",
    "    \n",
    "    return chars,place\n",
    "    "
   ]
  },
  {
   "cell_type": "code",
   "execution_count": 102,
   "metadata": {},
   "outputs": [
    {
     "name": "stdout",
     "output_type": "stream",
     "text": [
      "The following combination is 1 in 204180\n"
     ]
    },
    {
     "data": {
      "text/plain": [
       "(['Charles Darwin', 'Bill Gates'], 'abandoned warehouse')"
      ]
     },
     "execution_count": 102,
     "metadata": {},
     "output_type": "execute_result"
    }
   ],
   "source": [
    "Prompt_Generator(people,places)"
   ]
  },
  {
   "cell_type": "code",
   "execution_count": null,
   "metadata": {
    "collapsed": true
   },
   "outputs": [],
   "source": []
  }
 ],
 "metadata": {
  "kernelspec": {
   "display_name": "Python 3",
   "language": "python",
   "name": "python3"
  },
  "language_info": {
   "codemirror_mode": {
    "name": "ipython",
    "version": 3
   },
   "file_extension": ".py",
   "mimetype": "text/x-python",
   "name": "python",
   "nbconvert_exporter": "python",
   "pygments_lexer": "ipython3",
   "version": "3.6.1"
  }
 },
 "nbformat": 4,
 "nbformat_minor": 2
}
